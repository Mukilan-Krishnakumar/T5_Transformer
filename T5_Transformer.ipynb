{
  "nbformat": 4,
  "nbformat_minor": 0,
  "metadata": {
    "colab": {
      "provenance": [],
      "collapsed_sections": [],
      "authorship_tag": "ABX9TyPlKNgAQsIl/rAtfFtX5Q+f",
      "include_colab_link": true
    },
    "kernelspec": {
      "name": "python3",
      "display_name": "Python 3"
    },
    "language_info": {
      "name": "python"
    }
  },
  "cells": [
    {
      "cell_type": "markdown",
      "metadata": {
        "id": "view-in-github",
        "colab_type": "text"
      },
      "source": [
        "<a href=\"https://colab.research.google.com/github/Mukilan-Krishnakumar/T5_Transformer/blob/main/T5_Transformer.ipynb\" target=\"_parent\"><img src=\"https://colab.research.google.com/assets/colab-badge.svg\" alt=\"Open In Colab\"/></a>"
      ]
    },
    {
      "cell_type": "markdown",
      "source": [
        "# T5_Transformer\n"
      ],
      "metadata": {
        "id": "sKZhYHDTavVh"
      }
    },
    {
      "cell_type": "markdown",
      "source": [
        "# 0. Importing Libraries "
      ],
      "metadata": {
        "id": "GUxFBztNa16n"
      }
    },
    {
      "cell_type": "code",
      "source": [
        "!pip install transformers"
      ],
      "metadata": {
        "colab": {
          "base_uri": "https://localhost:8080/"
        },
        "id": "eORjqd4kSBWL",
        "outputId": "29dad743-5bcd-4d6c-a6a3-405a55344402"
      },
      "execution_count": 1,
      "outputs": [
        {
          "output_type": "stream",
          "name": "stdout",
          "text": [
            "Looking in indexes: https://pypi.org/simple, https://us-python.pkg.dev/colab-wheels/public/simple/\n",
            "Requirement already satisfied: transformers in /usr/local/lib/python3.7/dist-packages (4.22.1)\n",
            "Requirement already satisfied: filelock in /usr/local/lib/python3.7/dist-packages (from transformers) (3.8.0)\n",
            "Requirement already satisfied: pyyaml>=5.1 in /usr/local/lib/python3.7/dist-packages (from transformers) (6.0)\n",
            "Requirement already satisfied: regex!=2019.12.17 in /usr/local/lib/python3.7/dist-packages (from transformers) (2022.6.2)\n",
            "Requirement already satisfied: importlib-metadata in /usr/local/lib/python3.7/dist-packages (from transformers) (4.12.0)\n",
            "Requirement already satisfied: tqdm>=4.27 in /usr/local/lib/python3.7/dist-packages (from transformers) (4.64.1)\n",
            "Requirement already satisfied: requests in /usr/local/lib/python3.7/dist-packages (from transformers) (2.23.0)\n",
            "Requirement already satisfied: numpy>=1.17 in /usr/local/lib/python3.7/dist-packages (from transformers) (1.21.6)\n",
            "Requirement already satisfied: huggingface-hub<1.0,>=0.9.0 in /usr/local/lib/python3.7/dist-packages (from transformers) (0.9.1)\n",
            "Requirement already satisfied: packaging>=20.0 in /usr/local/lib/python3.7/dist-packages (from transformers) (21.3)\n",
            "Requirement already satisfied: tokenizers!=0.11.3,<0.13,>=0.11.1 in /usr/local/lib/python3.7/dist-packages (from transformers) (0.12.1)\n",
            "Requirement already satisfied: typing-extensions>=3.7.4.3 in /usr/local/lib/python3.7/dist-packages (from huggingface-hub<1.0,>=0.9.0->transformers) (4.1.1)\n",
            "Requirement already satisfied: pyparsing!=3.0.5,>=2.0.2 in /usr/local/lib/python3.7/dist-packages (from packaging>=20.0->transformers) (3.0.9)\n",
            "Requirement already satisfied: zipp>=0.5 in /usr/local/lib/python3.7/dist-packages (from importlib-metadata->transformers) (3.8.1)\n",
            "Requirement already satisfied: urllib3!=1.25.0,!=1.25.1,<1.26,>=1.21.1 in /usr/local/lib/python3.7/dist-packages (from requests->transformers) (1.24.3)\n",
            "Requirement already satisfied: chardet<4,>=3.0.2 in /usr/local/lib/python3.7/dist-packages (from requests->transformers) (3.0.4)\n",
            "Requirement already satisfied: idna<3,>=2.5 in /usr/local/lib/python3.7/dist-packages (from requests->transformers) (2.10)\n",
            "Requirement already satisfied: certifi>=2017.4.17 in /usr/local/lib/python3.7/dist-packages (from requests->transformers) (2022.6.15)\n"
          ]
        }
      ]
    },
    {
      "cell_type": "code",
      "source": [
        "! pip install sentencepiece"
      ],
      "metadata": {
        "colab": {
          "base_uri": "https://localhost:8080/"
        },
        "id": "66DCc_7ZWI0A",
        "outputId": "8ed16945-7a62-4a8b-a48c-cbb7adc99f85"
      },
      "execution_count": 2,
      "outputs": [
        {
          "output_type": "stream",
          "name": "stdout",
          "text": [
            "Looking in indexes: https://pypi.org/simple, https://us-python.pkg.dev/colab-wheels/public/simple/\n",
            "Requirement already satisfied: sentencepiece in /usr/local/lib/python3.7/dist-packages (0.1.97)\n"
          ]
        }
      ]
    },
    {
      "cell_type": "code",
      "execution_count": 3,
      "metadata": {
        "id": "4MgiB2eRRghq"
      },
      "outputs": [],
      "source": [
        "import torch\n",
        "from transformers import T5Tokenizer, T5ForConditionalGeneration"
      ]
    },
    {
      "cell_type": "code",
      "source": [
        "tokenizer = T5Tokenizer.from_pretrained('t5-small')\n",
        "model = T5ForConditionalGeneration.from_pretrained('t5-small', return_dict=True)"
      ],
      "metadata": {
        "colab": {
          "base_uri": "https://localhost:8080/"
        },
        "id": "sF1aEak5Tb8D",
        "outputId": "057c6b27-b71b-4cb6-f82c-4bd61fdf8709"
      },
      "execution_count": 4,
      "outputs": [
        {
          "output_type": "stream",
          "name": "stderr",
          "text": [
            "/usr/local/lib/python3.7/dist-packages/transformers/models/t5/tokenization_t5.py:174: FutureWarning: This tokenizer was incorrectly instantiated with a model max length of 512 which will be corrected in Transformers v5.\n",
            "For now, this behavior is kept to avoid breaking backwards compatibility when padding/encoding with `truncation is True`.\n",
            "- Be aware that you SHOULD NOT rely on t5-small automatically truncating your input to 512 when padding/encoding.\n",
            "- If you want to encode/pad to sequences longer than 512 you can either instantiate this tokenizer with `model_max_length` or pass `max_length` when encoding/padding.\n",
            "- To avoid this warning, please instantiate this tokenizer with `model_max_length` set to your preferred value.\n",
            "  FutureWarning,\n"
          ]
        }
      ]
    },
    {
      "cell_type": "markdown",
      "source": [
        "# 1. Text Summarization"
      ],
      "metadata": {
        "id": "D1s9JIW6UXzA"
      }
    },
    {
      "cell_type": "code",
      "source": [
        "one_piece_sequence = (\"The series focuses on Monkey D. Luffy, a young man made of rubber, who, inspired by his childhood idol,\" \n",
        "             \"the powerful pirate Red-Haired Shanks, sets off on a journey from the East Blue Sea to find the mythical treasure,\" \n",
        "             \"the One Piece, and proclaim himself the King of the Pirates. In an effort to organize his own crew, the Straw Hat Pirates,\" \n",
        "             \"Luffy rescues and befriends a pirate hunter and swordsman named Roronoa Zoro, and they head off in search of the \" \n",
        "             \"titular treasure. They are joined in their journey by Nami, a money-obsessed thief and navigator; Usopp, a sniper \"\n",
        "             \"and compulsive liar; and Sanji, a perverted but chivalrous cook. They acquire a ship, the Going Merry, and engage in confrontations\"  \n",
        "             \"with notorious pirates of the East Blue. As Luffy and his crew set out on their adventures, others join the crew later in the series, \"\n",
        "             \"including Tony Tony Chopper, an anthropomorphized reindeer doctor; Nico Robin, an archaeologist and former Baroque Works assassin; \"\n",
        "             \"Franky, a cyborg shipwright; Brook, a skeleton musician and swordsman; and Jimbei, a fish-man helmsman and former member of the Seven \"\n",
        "             \"Warlords of the Sea. Once the Going Merry is damaged beyond repair, Franky builds the Straw Hat Pirates a new ship, the Thousand Sunny,\" \n",
        "             \"Together, they encounter other pirates, bounty hunters, criminal organizations, revolutionaries, secret agents, and soldiers of the\" \n",
        "             \"corrupt World Government, and various other friends and foes, as they sail the seas in pursuit of their dreams.\")"
      ],
      "metadata": {
        "id": "1HALj_woR5tj"
      },
      "execution_count": 5,
      "outputs": []
    },
    {
      "cell_type": "code",
      "source": [
        "inputs = tokenizer.encode(\"summarize: \" + one_piece_sequence,\n",
        "                          return_tensors='pt',\n",
        "                          max_length=512,\n",
        "                          truncation=True)"
      ],
      "metadata": {
        "id": "EBNDNpBHTkpo"
      },
      "execution_count": 6,
      "outputs": []
    },
    {
      "cell_type": "code",
      "source": [
        "summarization_ids = model.generate(inputs, max_length=80, min_length=40, length_penalty=5., num_beams=2)"
      ],
      "metadata": {
        "id": "vC64zDLdT4vo"
      },
      "execution_count": 7,
      "outputs": []
    },
    {
      "cell_type": "code",
      "source": [
        "summarization = tokenizer.decode(summarization_ids[0])"
      ],
      "metadata": {
        "id": "p6NnkC8pUBD-"
      },
      "execution_count": 8,
      "outputs": []
    },
    {
      "cell_type": "code",
      "source": [
        "summarization"
      ],
      "metadata": {
        "colab": {
          "base_uri": "https://localhost:8080/",
          "height": 54
        },
        "id": "TYGz33vIUQyn",
        "outputId": "42a25d39-19e7-48e0-b55e-4aa5f3237abe"
      },
      "execution_count": 9,
      "outputs": [
        {
          "output_type": "execute_result",
          "data": {
            "text/plain": [
              "'<pad> the Straw Hat Pirates befriends a pirate hunter and swordsman named Roronoa Zoro. they are joined in their journey by Nami, a money-obsessed thief and navigator. others join the crew later in the series, including Tony Tony Chopper, an anthropomorphized reinde'"
            ],
            "application/vnd.google.colaboratory.intrinsic+json": {
              "type": "string"
            }
          },
          "metadata": {},
          "execution_count": 9
        }
      ]
    },
    {
      "cell_type": "markdown",
      "source": [
        "# 2. Language Translation"
      ],
      "metadata": {
        "id": "Exjqg3EjUh1e"
      }
    },
    {
      "cell_type": "code",
      "source": [
        "language_sequence = (\"You should definitely watch 'One Piece', it is so good, you will love the comic book\")"
      ],
      "metadata": {
        "id": "aE0TGXgIUS8X"
      },
      "execution_count": 10,
      "outputs": []
    },
    {
      "cell_type": "code",
      "source": [
        "input_ids = tokenizer(\"translate English to French: \"+language_sequence, return_tensors=\"pt\").input_ids "
      ],
      "metadata": {
        "id": "FlWMhgN6Uzzq"
      },
      "execution_count": 11,
      "outputs": []
    },
    {
      "cell_type": "code",
      "source": [
        "language_ids = model.generate(input_ids)"
      ],
      "metadata": {
        "id": "JCr3XnThU5Yr",
        "colab": {
          "base_uri": "https://localhost:8080/"
        },
        "outputId": "1d457ef7-8e48-4516-ae59-23dc22e5a4b6"
      },
      "execution_count": 12,
      "outputs": [
        {
          "output_type": "stream",
          "name": "stderr",
          "text": [
            "/usr/local/lib/python3.7/dist-packages/transformers/generation_utils.py:1232: UserWarning: Neither `max_length` nor `max_new_tokens` has been set, `max_length` will default to 20 (`self.config.max_length`). Controlling `max_length` via the config is deprecated and `max_length` will be removed from the config in v5 of Transformers -- we recommend using `max_new_tokens` to control the maximum length of the generation.\n",
            "  UserWarning,\n"
          ]
        }
      ]
    },
    {
      "cell_type": "code",
      "source": [
        "language_translation = tokenizer.decode(language_ids[0],skip_special_tokens=True)"
      ],
      "metadata": {
        "id": "IR5govHBVc1v"
      },
      "execution_count": 13,
      "outputs": []
    },
    {
      "cell_type": "code",
      "source": [
        "language_translation"
      ],
      "metadata": {
        "colab": {
          "base_uri": "https://localhost:8080/",
          "height": 36
        },
        "id": "0pB0jQQfVjcG",
        "outputId": "106a3465-bf1f-4ca4-8aa0-34915aa56552"
      },
      "execution_count": 14,
      "outputs": [
        {
          "output_type": "execute_result",
          "data": {
            "text/plain": [
              "\"Vous devriez regarder 'One Piece', c'est si bon\""
            ],
            "application/vnd.google.colaboratory.intrinsic+json": {
              "type": "string"
            }
          },
          "metadata": {},
          "execution_count": 14
        }
      ]
    },
    {
      "cell_type": "markdown",
      "source": [
        "# 3. Text Classification: Textual Entailment"
      ],
      "metadata": {
        "id": "Qfqln3-MXngd"
      }
    },
    {
      "cell_type": "code",
      "source": [
        "entailment_premise = (\"I love One Piece.\")\n",
        "entailment_hypothesis = (\"My feelings towards One Piece is filled with love\")"
      ],
      "metadata": {
        "id": "2Tq4ZlrYVlHT"
      },
      "execution_count": 15,
      "outputs": []
    },
    {
      "cell_type": "code",
      "source": [
        "input_ids = tokenizer(\"mnli premise: \"+entailment_premise+\" hypothesis: \"+entailment_hypothesis, return_tensors=\"pt\").input_ids "
      ],
      "metadata": {
        "id": "ifbllaToXqNa"
      },
      "execution_count": 16,
      "outputs": []
    },
    {
      "cell_type": "code",
      "source": [
        "entailment_ids = model.generate(input_ids)"
      ],
      "metadata": {
        "id": "_1KygdhfX2Ub"
      },
      "execution_count": 17,
      "outputs": []
    },
    {
      "cell_type": "code",
      "source": [
        "entailment = tokenizer.decode(entailment_ids[0],skip_special_tokens=True)"
      ],
      "metadata": {
        "id": "bGxZ03lHX6R9"
      },
      "execution_count": 18,
      "outputs": []
    },
    {
      "cell_type": "code",
      "source": [
        "entailment"
      ],
      "metadata": {
        "colab": {
          "base_uri": "https://localhost:8080/",
          "height": 36
        },
        "id": "fNWsOq6xX_PS",
        "outputId": "78c0cd12-dd3d-4e1d-ab31-b9c5ff890f05"
      },
      "execution_count": 19,
      "outputs": [
        {
          "output_type": "execute_result",
          "data": {
            "text/plain": [
              "'entailment'"
            ],
            "application/vnd.google.colaboratory.intrinsic+json": {
              "type": "string"
            }
          },
          "metadata": {},
          "execution_count": 19
        }
      ]
    },
    {
      "cell_type": "markdown",
      "source": [
        "# 4. Linguistic Acceptability "
      ],
      "metadata": {
        "id": "rsYlFRORYCz8"
      }
    },
    {
      "cell_type": "code",
      "source": [
        "sentence = (\"Luffy is a great pirate.\")"
      ],
      "metadata": {
        "id": "gm5IeJ4NYARH"
      },
      "execution_count": 20,
      "outputs": []
    },
    {
      "cell_type": "code",
      "source": [
        "input_ids = tokenizer(\"cola: \"+ sentence, return_tensors=\"pt\").input_ids "
      ],
      "metadata": {
        "id": "QQ5z5qXnYNVi"
      },
      "execution_count": 21,
      "outputs": []
    },
    {
      "cell_type": "code",
      "source": [
        "sentence_ids = model.generate(input_ids)"
      ],
      "metadata": {
        "id": "zrh1lvTtYU3p"
      },
      "execution_count": 22,
      "outputs": []
    },
    {
      "cell_type": "code",
      "source": [
        "sentence = tokenizer.decode(sentence_ids[0],skip_special_tokens=True)"
      ],
      "metadata": {
        "id": "F_z6lDwQYX_j"
      },
      "execution_count": 23,
      "outputs": []
    },
    {
      "cell_type": "code",
      "source": [
        "sentence"
      ],
      "metadata": {
        "colab": {
          "base_uri": "https://localhost:8080/",
          "height": 36
        },
        "id": "AbvonXqJYcdF",
        "outputId": "d85e6360-53e8-42dc-ee6b-86a54a09e666"
      },
      "execution_count": 24,
      "outputs": [
        {
          "output_type": "execute_result",
          "data": {
            "text/plain": [
              "'acceptable'"
            ],
            "application/vnd.google.colaboratory.intrinsic+json": {
              "type": "string"
            }
          },
          "metadata": {},
          "execution_count": 24
        }
      ]
    },
    {
      "cell_type": "markdown",
      "source": [
        "# 5. Sentence Similarity"
      ],
      "metadata": {
        "id": "TsgfoMlhYpIS"
      }
    },
    {
      "cell_type": "code",
      "source": [
        "stsb_sentence_1 = (\"Luffy was fighting in the war.\")\n",
        "stsb_sentence_2 = (\"Luffy's fighting style is comical.\")"
      ],
      "metadata": {
        "id": "CUxJb9u8Yc9X"
      },
      "execution_count": 25,
      "outputs": []
    },
    {
      "cell_type": "code",
      "source": [
        "input_ids = tokenizer(\"stsb sentence 1: \"+stsb_sentence_1+\" sentence 2: \"+stsb_sentence_2, return_tensors=\"pt\").input_ids "
      ],
      "metadata": {
        "id": "j7azydeQY1pg"
      },
      "execution_count": 26,
      "outputs": []
    },
    {
      "cell_type": "code",
      "source": [
        "stsb_ids = model.generate(input_ids)"
      ],
      "metadata": {
        "id": "ubAVSTAkZCnT"
      },
      "execution_count": 27,
      "outputs": []
    },
    {
      "cell_type": "code",
      "source": [
        "stsb = tokenizer.decode(stsb_ids[0],skip_special_tokens=True)"
      ],
      "metadata": {
        "id": "RgDM_CU6ZFno"
      },
      "execution_count": 28,
      "outputs": []
    },
    {
      "cell_type": "code",
      "source": [
        "stsb"
      ],
      "metadata": {
        "colab": {
          "base_uri": "https://localhost:8080/",
          "height": 36
        },
        "id": "Mfl5RAMNZJc1",
        "outputId": "7f2015e1-28f1-40d7-b98b-8bc8fefb973b"
      },
      "execution_count": 29,
      "outputs": [
        {
          "output_type": "execute_result",
          "data": {
            "text/plain": [
              "'4.0'"
            ],
            "application/vnd.google.colaboratory.intrinsic+json": {
              "type": "string"
            }
          },
          "metadata": {},
          "execution_count": 29
        }
      ]
    }
  ]
}